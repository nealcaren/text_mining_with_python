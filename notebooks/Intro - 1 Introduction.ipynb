{
 "cells": [
  {
   "cell_type": "markdown",
   "metadata": {
    "slideshow": {
     "slide_type": "slide"
    }
   },
   "source": [
    "### Neal Caren  \n",
    "Department of Sociology  \n",
    "University of North Carolina,  Chapel Hill  \n",
    "neal.caren@gmail.com  \n",
    "@haphazardsoc  \n",
    "\n",
    "\n",
    "#### https://github.com/nealcaren/osscabd_2018"
   ]
  },
  {
   "cell_type": "markdown",
   "metadata": {},
   "source": [
    "(Introduction is unwritten.)"
   ]
  },
  {
   "cell_type": "markdown",
   "metadata": {
    "slideshow": {
     "slide_type": "slide"
    }
   },
   "source": [
    "#### Setup\n",
    "\n",
    "On your computer\n",
    "\n",
    "* [Anaconda](https://store.continuum.io/cshop/anaconda/)\n",
    "\n"
   ]
  },
  {
   "cell_type": "markdown",
   "metadata": {
    "slideshow": {
     "slide_type": "slide"
    }
   },
   "source": [
    "On Windows\n",
    "\n",
    "![](images/windows.png)"
   ]
  },
  {
   "cell_type": "markdown",
   "metadata": {
    "slideshow": {
     "slide_type": "slide"
    }
   },
   "source": [
    "#### Jupyter Notebooks are what all the cool kids use.\n",
    "\n",
    "![](images/jnotebook.png)"
   ]
  },
  {
   "cell_type": "markdown",
   "metadata": {
    "slideshow": {
     "slide_type": "slide"
    }
   },
   "source": [
    "#### This notebook\n",
    "\n",
    "![](images/thisnotebook.png)"
   ]
  },
  {
   "cell_type": "markdown",
   "metadata": {
    "slideshow": {
     "slide_type": "slide"
    }
   },
   "source": [
    "Cells can be Markdown (like this one) or code\n",
    "\n",
    "![](images/celltype.png)"
   ]
  },
  {
   "cell_type": "markdown",
   "metadata": {
    "slideshow": {
     "slide_type": "slide"
    }
   },
   "source": [
    "#### To start off with\n",
    "\n",
    "Make sure you hit `Shift-Enter` or `Ctrl-Enter` when you are done."
   ]
  },
  {
   "cell_type": "code",
   "execution_count": null,
   "metadata": {
    "slideshow": {
     "slide_type": "fragment"
    }
   },
   "outputs": [],
   "source": [
    "2 + 2"
   ]
  },
  {
   "cell_type": "code",
   "execution_count": null,
   "metadata": {},
   "outputs": [],
   "source": []
  },
  {
   "cell_type": "markdown",
   "metadata": {
    "slideshow": {
     "slide_type": "slide"
    }
   },
   "source": [
    "Download all the course materials from the Github page. These will likely be updated each day...\n",
    "#### https://github.com/nealcaren/osscabd_2018"
   ]
  },
  {
   "cell_type": "markdown",
   "metadata": {
    "slideshow": {
     "slide_type": "slide"
    }
   },
   "source": [
    "### Starting Navigator\n",
    "# Windows\n",
    "\n",
    "- From the Start menu, click the Anaconda Navigator desktop app.\n",
    "- Or from the Start menu, search for and open “Anaconda Prompt” and type the command anaconda-navigator.\n",
    "\n",
    "![](https://docs.anaconda.com/_images/navigator-anaconda-prompt.png)"
   ]
  },
  {
   "cell_type": "markdown",
   "metadata": {
    "slideshow": {
     "slide_type": "slide"
    }
   },
   "source": [
    "If things go wrong on your computer.\n",
    "\n",
    "![](images/mybinder.png)"
   ]
  },
  {
   "cell_type": "markdown",
   "metadata": {
    "slideshow": {
     "slide_type": "slide"
    }
   },
   "source": [
    "<div class=\"alert alert-success\">\n",
    "\n",
    "### Morning mission\n",
    "\n",
    "<ul>\n",
    "<li> Find an ipynb notebook that does does something cool. \n",
    "<ul>\n",
    "<li> <a href=\"https://www.kaggle.com/kernels?sortBy=voteCount&group=everyone&pageSize=20&language=Python\">Kaggle Python Kernels</a>\n",
    "    <li> Look at Github repositories of <a href=\"https://github.com/BuzzFeedNews\">Buzzfeed News</a> or <a href=\"https://github.com/fivethirtyeight/data\">538</a>\n",
    "<li> Twitter search for ipynb\n",
    "</ul>\n",
    "\n",
    "  \n",
    "<li> View it online, pehaps using [nbviewer](http://nbviewer.jupyter.org/). Github allows you to view them.\n",
    "<li> Download it, and run it locally.  \n",
    "<li> Download it into a directory where you have jupyter running (or start a Jupter instance where you downloaded it.)\n",
    "<ul>\n",
    "    <li> It may not work, but that's okay.\n",
    "<li> Be prepared to talk about your notebook.\n",
    "</ul>\n",
    "    </ul>\n",
    "</div>"
   ]
  }
 ],
 "metadata": {
  "kernelspec": {
   "display_name": "Python 3",
   "language": "python",
   "name": "python3"
  },
  "language_info": {
   "codemirror_mode": {
    "name": "ipython",
    "version": 3
   },
   "file_extension": ".py",
   "mimetype": "text/x-python",
   "name": "python",
   "nbconvert_exporter": "python",
   "pygments_lexer": "ipython3",
   "version": "3.6.4"
  },
  "name": "_merged"
 },
 "nbformat": 4,
 "nbformat_minor": 2
}
